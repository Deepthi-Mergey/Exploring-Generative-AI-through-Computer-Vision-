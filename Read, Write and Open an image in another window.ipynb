{
 "cells": [
  {
   "cell_type": "markdown",
   "id": "5c8c2aa8-c1f4-4bf9-bb3a-a2918e2fe17e",
   "metadata": {},
   "source": [
    "Working with an IMAGE with OPENCV without using Matplotlib"
   ]
  },
  {
   "cell_type": "code",
   "execution_count": 1,
   "id": "a5dd4ceb-e452-46c8-87e1-7f8b23526c03",
   "metadata": {},
   "outputs": [],
   "source": [
    "import cv2"
   ]
  },
  {
   "cell_type": "code",
   "execution_count": 2,
   "id": "a797d224-3d00-4bb2-bc04-7d5a1770466a",
   "metadata": {},
   "outputs": [],
   "source": [
    "my_img = cv2.imread(r\"C:\\Users\\ShreeSai\\Desktop\\Elephant mom with Baby.jpg\")"
   ]
  },
  {
   "cell_type": "code",
   "execution_count": 3,
   "id": "c3c018d6-6dbd-4056-85d1-d80e140d2af3",
   "metadata": {},
   "outputs": [],
   "source": [
    "wrong_img = cv2.imread(r\"C:\\Users\\ShreeSai\\Desktop\\dog.jpg\")"
   ]
  },
  {
   "cell_type": "code",
   "execution_count": 4,
   "id": "4b822dc9-6ba6-4945-9651-d94294ec0311",
   "metadata": {},
   "outputs": [
    {
     "data": {
      "text/plain": [
       "NoneType"
      ]
     },
     "execution_count": 4,
     "metadata": {},
     "output_type": "execute_result"
    }
   ],
   "source": [
    "type(wrong_img)"
   ]
  },
  {
   "cell_type": "code",
   "execution_count": 5,
   "id": "f3b5daee-c272-4dc7-9c2e-c7e5d0aa8f71",
   "metadata": {},
   "outputs": [
    {
     "data": {
      "text/plain": [
       "numpy.ndarray"
      ]
     },
     "execution_count": 5,
     "metadata": {},
     "output_type": "execute_result"
    }
   ],
   "source": [
    "type(my_img)"
   ]
  },
  {
   "cell_type": "code",
   "execution_count": 10,
   "id": "708d2940-f6f1-4ba4-b0df-c8eafdb75c9a",
   "metadata": {},
   "outputs": [
    {
     "data": {
      "text/plain": [
       "-1"
      ]
     },
     "execution_count": 10,
     "metadata": {},
     "output_type": "execute_result"
    }
   ],
   "source": [
    "import cv2\n",
    "\n",
    "my_img = cv2.imread(r\"C:\\Users\\ShreeSai\\Desktop\\Elephant mom with Baby.jpg\")\n",
    "\n",
    "cv2.imshow('nit', my_img)\n",
    "\n",
    "cv2.waitKey()  # small w and capital K "
   ]
  },
  {
   "cell_type": "code",
   "execution_count": 11,
   "id": "7ec21700-7cf2-435b-b01b-e48fac8ccc33",
   "metadata": {},
   "outputs": [],
   "source": [
    "import cv2\n",
    "\n",
    "my_img = cv2.imread(r\"C:\\Users\\ShreeSai\\Desktop\\Elephant mom with Baby.jpg\")\n",
    "\n",
    "while True:\n",
    "\n",
    "    cv2.imshow('Pics', my_img)\n",
    "\n",
    "    if cv2.waitKey(1) & 0xFF == 27 :\n",
    "        break\n",
    "\n",
    "cv2.destroyAllWindows()"
   ]
  },
  {
   "cell_type": "code",
   "execution_count": 12,
   "id": "cd146560-d00a-4b20-bc06-0d46f9ad597f",
   "metadata": {},
   "outputs": [],
   "source": [
    "import cv2\n",
    "myimg = cv2.imread(r\"C:\\Users\\ShreeSai\\Desktop\\Lotus3.jfif\")\n",
    "\n",
    "while True:\n",
    "    cv2.imshow('Flowers', myimg)\n",
    "    if cv2.waitKey(1) & 0xFF == 27 :\n",
    "        break\n",
    "\n",
    "cv2.destroyAllWindows()"
   ]
  },
  {
   "cell_type": "code",
   "execution_count": null,
   "id": "e9b708d1-eec2-4741-97ad-f245b9e8ca6c",
   "metadata": {},
   "outputs": [],
   "source": []
  }
 ],
 "metadata": {
  "kernelspec": {
   "display_name": "Python 3 (ipykernel)",
   "language": "python",
   "name": "python3"
  },
  "language_info": {
   "codemirror_mode": {
    "name": "ipython",
    "version": 3
   },
   "file_extension": ".py",
   "mimetype": "text/x-python",
   "name": "python",
   "nbconvert_exporter": "python",
   "pygments_lexer": "ipython3",
   "version": "3.12.4"
  }
 },
 "nbformat": 4,
 "nbformat_minor": 5
}
